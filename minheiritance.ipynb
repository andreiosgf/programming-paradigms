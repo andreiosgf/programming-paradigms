{
  "nbformat": 4,
  "nbformat_minor": 0,
  "metadata": {
    "colab": {
      "provenance": [],
      "authorship_tag": "ABX9TyN9X34UoGlMCMiPwEq8Kv2l",
      "include_colab_link": true
    },
    "kernelspec": {
      "name": "python3",
      "display_name": "Python 3"
    },
    "language_info": {
      "name": "python"
    }
  },
  "cells": [
    {
      "cell_type": "markdown",
      "metadata": {
        "id": "view-in-github",
        "colab_type": "text"
      },
      "source": [
        "<a href=\"https://colab.research.google.com/github/andreiosgf/programming-paradigms/blob/main/minheiritance.ipynb\" target=\"_parent\"><img src=\"https://colab.research.google.com/assets/colab-badge.svg\" alt=\"Open In Colab\"/></a>"
      ]
    },
    {
      "cell_type": "code",
      "execution_count": null,
      "metadata": {
        "id": "rVoiTf8YUC-q"
      },
      "outputs": [],
      "source": [
        "class Base1:\n",
        "  def __init__(self):\n",
        "    self.str1=\"String1\"\n",
        "    print(\"Base 1\")"
      ]
    },
    {
      "cell_type": "code",
      "source": [
        "class Base2:\n",
        "  def __init__(self):\n",
        "    self.str2=\"String2\"\n",
        "    print(\"Base2\")"
      ],
      "metadata": {
        "id": "URrSSIGcUUj4"
      },
      "execution_count": null,
      "outputs": []
    },
    {
      "cell_type": "code",
      "source": [
        "class Derived(Base1,Base2):\n",
        "  def __init__(self):\n",
        "    Base1.__init__(self)\n",
        "    Base2.__init__(self)\n",
        "    print(\"Derived\")\n",
        "    #Base1.str1\n",
        "\n",
        "  def printStrs(self):\n",
        "    print(self.str1,self.str2)"
      ],
      "metadata": {
        "id": "PYLTtI-lUdL8"
      },
      "execution_count": null,
      "outputs": []
    },
    {
      "cell_type": "code",
      "source": [
        "obj=Derived()\n",
        "#obj.printStrs()"
      ],
      "metadata": {
        "colab": {
          "base_uri": "https://localhost:8080/"
        },
        "id": "K1qTe2_bU9Hc",
        "outputId": "b37d017e-40a5-4fe3-ba31-292598983100"
      },
      "execution_count": null,
      "outputs": [
        {
          "output_type": "stream",
          "name": "stdout",
          "text": [
            "Base 1\n",
            "Base2\n",
            "Derived\n"
          ]
        }
      ]
    }
  ]
}