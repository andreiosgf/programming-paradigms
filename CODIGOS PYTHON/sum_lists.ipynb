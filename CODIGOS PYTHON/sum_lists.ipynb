{
 "cells": [
  {
   "cell_type": "code",
   "execution_count": 2,
   "id": "c0818349-83f3-4cd8-90fc-e992c69cc364",
   "metadata": {},
   "outputs": [],
   "source": [
    "def suma_list(x):\n",
    "    res=0\n",
    "    for a in x:\n",
    "        res+=a\n",
    "    return res"
   ]
  },
  {
   "cell_type": "code",
   "execution_count": 3,
   "id": "39be46e1-20e7-4cdb-93b2-01b5c44f47d2",
   "metadata": {},
   "outputs": [
    {
     "name": "stdout",
     "output_type": "stream",
     "text": [
      "Suma\n",
      "10\n"
     ]
    }
   ],
   "source": [
    "print(\"Suma\")\n",
    "lista=[1,2,3,4]\n",
    "print(suma_list(lista))"
   ]
  },
  {
   "cell_type": "code",
   "execution_count": 4,
   "id": "cea68d0c-bc3d-4645-aaab-521be09d5b73",
   "metadata": {},
   "outputs": [
    {
     "name": "stdout",
     "output_type": "stream",
     "text": [
      "5\n"
     ]
    }
   ],
   "source": [
    "lista=[3,3,-2,1]\n",
    "print(sum(lista))"
   ]
  },
  {
   "cell_type": "code",
   "execution_count": null,
   "id": "8e6aaaa6-4864-423e-b3f6-dd746f7b371c",
   "metadata": {},
   "outputs": [],
   "source": []
  }
 ],
 "metadata": {
  "kernelspec": {
   "display_name": "Python 3 (ipykernel)",
   "language": "python",
   "name": "python3"
  },
  "language_info": {
   "codemirror_mode": {
    "name": "ipython",
    "version": 3
   },
   "file_extension": ".py",
   "mimetype": "text/x-python",
   "name": "python",
   "nbconvert_exporter": "python",
   "pygments_lexer": "ipython3",
   "version": "3.9.12"
  }
 },
 "nbformat": 4,
 "nbformat_minor": 5
}
