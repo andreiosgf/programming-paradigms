{
 "cells": [
  {
   "cell_type": "code",
   "execution_count": 7,
   "id": "bd868e8a",
   "metadata": {},
   "outputs": [],
   "source": [
    "class HolaMundo:\n",
    "    def __init__(self,name,times):\n",
    "        self.name=name\n",
    "        self.times=times\n",
    "        \n",
    "    def __str__(self):\n",
    "        return f'Name {self.name} and times {self.times}'\n",
    "    \n",
    "    def print_greet(self):\n",
    "        for i in range(0,self.times):\n",
    "            print(f'Hi {self.name}')"
   ]
  },
  {
   "cell_type": "code",
   "execution_count": 8,
   "id": "c561c77a",
   "metadata": {},
   "outputs": [
    {
     "name": "stdout",
     "output_type": "stream",
     "text": [
      "Name Andres and times 5\n",
      "Hi Andres\n",
      "Hi Andres\n",
      "Hi Andres\n",
      "Hi Andres\n",
      "Hi Andres\n"
     ]
    }
   ],
   "source": [
    "my_objeto=HolaMundo(\"Andres\",5)\n",
    "print(my_objeto)\n",
    "my_objeto.print_greet()"
   ]
  },
  {
   "cell_type": "code",
   "execution_count": null,
   "id": "0f3f2d98",
   "metadata": {},
   "outputs": [],
   "source": []
  }
 ],
 "metadata": {
  "kernelspec": {
   "display_name": "Python 3 (ipykernel)",
   "language": "python",
   "name": "python3"
  },
  "language_info": {
   "codemirror_mode": {
    "name": "ipython",
    "version": 3
   },
   "file_extension": ".py",
   "mimetype": "text/x-python",
   "name": "python",
   "nbconvert_exporter": "python",
   "pygments_lexer": "ipython3",
   "version": "3.9.12"
  }
 },
 "nbformat": 4,
 "nbformat_minor": 5
}
