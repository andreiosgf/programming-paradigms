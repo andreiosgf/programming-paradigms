{
  "nbformat": 4,
  "nbformat_minor": 0,
  "metadata": {
    "colab": {
      "provenance": []
    },
    "kernelspec": {
      "name": "python3",
      "display_name": "Python 3"
    },
    "language_info": {
      "name": "python"
    }
  },
  "cells": [
    {
      "cell_type": "code",
      "execution_count": 2,
      "metadata": {
        "id": "yMVz55-G4R6s"
      },
      "outputs": [],
      "source": [
        "List = [1, 2, 3, 4, 5, 6,\n",
        "        7, 8, 9, 10, 11, 12,\"Texto\"]"
      ]
    },
    {
      "cell_type": "code",
      "source": [
        "for x in List:\n",
        "  print(x)"
      ],
      "metadata": {
        "colab": {
          "base_uri": "https://localhost:8080/"
        },
        "id": "4JbckKHu4uaY",
        "outputId": "b6515744-1d77-4b9f-9d1a-03f4632a5b00"
      },
      "execution_count": 3,
      "outputs": [
        {
          "output_type": "stream",
          "name": "stdout",
          "text": [
            "1\n",
            "2\n",
            "3\n",
            "4\n",
            "5\n",
            "6\n",
            "7\n",
            "8\n",
            "9\n",
            "10\n",
            "11\n",
            "12\n",
            "Texto\n"
          ]
        }
      ]
    },
    {
      "cell_type": "code",
      "source": [
        "print(List)"
      ],
      "metadata": {
        "colab": {
          "base_uri": "https://localhost:8080/"
        },
        "id": "lPD_lLBI5WPn",
        "outputId": "112fd295-6e8a-4ccd-9636-979cb698f1fa"
      },
      "execution_count": 4,
      "outputs": [
        {
          "output_type": "stream",
          "name": "stdout",
          "text": [
            "[1, 2, 3, 4, 5, 6, 7, 8, 9, 10, 11, 12, 'Texto']\n"
          ]
        }
      ]
    },
    {
      "cell_type": "code",
      "source": [
        "print(len(List))"
      ],
      "metadata": {
        "colab": {
          "base_uri": "https://localhost:8080/"
        },
        "id": "yfXuUNsN5oer",
        "outputId": "c2f7e629-0ab4-40d2-b691-0a3dcbd9b8f0"
      },
      "execution_count": 5,
      "outputs": [
        {
          "output_type": "stream",
          "name": "stdout",
          "text": [
            "13\n"
          ]
        }
      ]
    },
    {
      "cell_type": "code",
      "source": [
        "List.append(14)"
      ],
      "metadata": {
        "id": "gWDvTbB74yFo"
      },
      "execution_count": 6,
      "outputs": []
    },
    {
      "cell_type": "code",
      "source": [
        "print(List)"
      ],
      "metadata": {
        "colab": {
          "base_uri": "https://localhost:8080/"
        },
        "id": "etcoq9oGJa94",
        "outputId": "4461cf2d-c946-4892-b633-3f7f853a6bd9"
      },
      "execution_count": 7,
      "outputs": [
        {
          "output_type": "stream",
          "name": "stdout",
          "text": [
            "[1, 2, 3, 4, 5, 6, 7, 8, 9, 10, 11, 12, 'Texto', 14]\n"
          ]
        }
      ]
    },
    {
      "cell_type": "code",
      "source": [
        "List.insert(1,-5)"
      ],
      "metadata": {
        "id": "Z4EMlaDq5EpU"
      },
      "execution_count": 8,
      "outputs": []
    },
    {
      "cell_type": "code",
      "source": [
        "print(List)"
      ],
      "metadata": {
        "colab": {
          "base_uri": "https://localhost:8080/"
        },
        "id": "bpco2XjZ5IiB",
        "outputId": "de30cb41-7984-46cd-a677-cb0d80b4c0e8"
      },
      "execution_count": 9,
      "outputs": [
        {
          "output_type": "stream",
          "name": "stdout",
          "text": [
            "[1, -5, 2, 3, 4, 5, 6, 7, 8, 9, 10, 11, 12, 'Texto', 14]\n"
          ]
        }
      ]
    },
    {
      "cell_type": "code",
      "source": [
        "x=List.pop()\n",
        "print(x)"
      ],
      "metadata": {
        "colab": {
          "base_uri": "https://localhost:8080/"
        },
        "id": "HKBUIqod5Tt7",
        "outputId": "6a90d934-11c1-45c2-ab1b-01dac0c998bb"
      },
      "execution_count": 10,
      "outputs": [
        {
          "output_type": "stream",
          "name": "stdout",
          "text": [
            "14\n"
          ]
        }
      ]
    },
    {
      "cell_type": "code",
      "source": [
        "print(List)"
      ],
      "metadata": {
        "colab": {
          "base_uri": "https://localhost:8080/"
        },
        "id": "ED2qAt5JKLFQ",
        "outputId": "fbd08a6d-fa7b-4f01-9718-3d8ec05865ea"
      },
      "execution_count": 11,
      "outputs": [
        {
          "output_type": "stream",
          "name": "stdout",
          "text": [
            "[1, -5, 2, 3, 4, 5, 6, 7, 8, 9, 10, 11, 12, 'Texto']\n"
          ]
        }
      ]
    },
    {
      "cell_type": "code",
      "source": [
        "x=List.pop(7)\n",
        "print(x)"
      ],
      "metadata": {
        "colab": {
          "base_uri": "https://localhost:8080/"
        },
        "id": "X4d62OfP6FTa",
        "outputId": "fd362e7d-eb57-458b-98b0-eddfe0e16c12"
      },
      "execution_count": 12,
      "outputs": [
        {
          "output_type": "stream",
          "name": "stdout",
          "text": [
            "7\n"
          ]
        }
      ]
    },
    {
      "cell_type": "code",
      "source": [
        "print(List)"
      ],
      "metadata": {
        "colab": {
          "base_uri": "https://localhost:8080/"
        },
        "id": "VA_Ym5pRK12g",
        "outputId": "5e8233ea-722e-4573-a456-88ee7dc15a48"
      },
      "execution_count": 13,
      "outputs": [
        {
          "output_type": "stream",
          "name": "stdout",
          "text": [
            "[1, -5, 2, 3, 4, 5, 6, 8, 9, 10, 11, 12, 'Texto']\n"
          ]
        }
      ]
    },
    {
      "cell_type": "code",
      "source": [
        "x=List.remove(3)\n",
        "print(x)"
      ],
      "metadata": {
        "id": "kGg0iZW36SiI",
        "outputId": "3a147aef-098f-478b-d0cf-d848d45e5296",
        "colab": {
          "base_uri": "https://localhost:8080/"
        }
      },
      "execution_count": 15,
      "outputs": [
        {
          "output_type": "stream",
          "name": "stdout",
          "text": [
            "None\n"
          ]
        }
      ]
    },
    {
      "cell_type": "code",
      "source": [
        "print(List)"
      ],
      "metadata": {
        "colab": {
          "base_uri": "https://localhost:8080/"
        },
        "id": "UZiUEHAY5jm7",
        "outputId": "8c2e6abb-51db-4895-81df-6010e5ee8b34"
      },
      "execution_count": 16,
      "outputs": [
        {
          "output_type": "stream",
          "name": "stdout",
          "text": [
            "[1, -5, 2, 4, 5, 6, 8, 9, 10, 11, 12, 'Texto']\n"
          ]
        }
      ]
    },
    {
      "cell_type": "code",
      "source": [
        "List.extend([8,7,6])"
      ],
      "metadata": {
        "id": "eDfSbzts51bq"
      },
      "execution_count": 17,
      "outputs": []
    },
    {
      "cell_type": "code",
      "source": [
        "print(List)"
      ],
      "metadata": {
        "colab": {
          "base_uri": "https://localhost:8080/"
        },
        "id": "lYHzaVm-57n6",
        "outputId": "80a9d134-450d-4227-97a1-9d7b7cfa3514"
      },
      "execution_count": 18,
      "outputs": [
        {
          "output_type": "stream",
          "name": "stdout",
          "text": [
            "[1, -5, 2, 4, 5, 6, 8, 9, 10, 11, 12, 'Texto', 8, 7, 6]\n"
          ]
        }
      ]
    },
    {
      "cell_type": "code",
      "source": [],
      "metadata": {
        "id": "ISujIiB_6Dht"
      },
      "execution_count": null,
      "outputs": []
    }
  ]
}