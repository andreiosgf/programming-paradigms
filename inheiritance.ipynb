{
  "nbformat": 4,
  "nbformat_minor": 0,
  "metadata": {
    "colab": {
      "provenance": [],
      "authorship_tag": "ABX9TyN9lXZRSC9J52DqrdAdFFIs",
      "include_colab_link": true
    },
    "kernelspec": {
      "name": "python3",
      "display_name": "Python 3"
    },
    "language_info": {
      "name": "python"
    }
  },
  "cells": [
    {
      "cell_type": "markdown",
      "metadata": {
        "id": "view-in-github",
        "colab_type": "text"
      },
      "source": [
        "<a href=\"https://colab.research.google.com/github/andreiosgf/programming-paradigms/blob/main/inheiritance.ipynb\" target=\"_parent\"><img src=\"https://colab.research.google.com/assets/colab-badge.svg\" alt=\"Open In Colab\"/></a>"
      ]
    },
    {
      "cell_type": "code",
      "source": [
        "#Clase Padre\n",
        "class Person:\n",
        "  def __init__(self,name,age):\n",
        "    self.name=name\n",
        "    self.age=age\n",
        "\n",
        "  def display(self):\n",
        "    print(self.name,self.age)"
      ],
      "metadata": {
        "id": "iRm5_huNHA9M"
      },
      "execution_count": 1,
      "outputs": []
    },
    {
      "cell_type": "code",
      "source": [
        "#Clase heredera o derivada\n",
        "class Student(Person):\n",
        "  def __init__(self, name, age,dob):\n",
        "    self.sName=name\n",
        "    self.sAge=age\n",
        "    self.dob=dob\n",
        "    #Constructor clase base\n",
        "    super().__init__(name,age)\n",
        "\n",
        "  def displayInfo(self):\n",
        "    super().display()\n",
        "    print(self.sName,self.sAge,self.dob)"
      ],
      "metadata": {
        "id": "NDOwyJSKOUhF"
      },
      "execution_count": 7,
      "outputs": []
    },
    {
      "cell_type": "code",
      "source": [
        "obj=Student(\"ABC\",30,\"05-16-1993\")\n",
        "#obj.display()\n",
        "obj.displayInfo()"
      ],
      "metadata": {
        "colab": {
          "base_uri": "https://localhost:8080/"
        },
        "id": "XKexxvqKPFAs",
        "outputId": "7a1150dc-5d7d-4b27-f63d-59cf9b164b53"
      },
      "execution_count": 8,
      "outputs": [
        {
          "output_type": "stream",
          "name": "stdout",
          "text": [
            "ABC 30\n",
            "ABC 30 05-16-1993\n"
          ]
        }
      ]
    }
  ]
}